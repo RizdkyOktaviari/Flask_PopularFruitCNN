{
 "cells": [
  {
   "cell_type": "code",
   "execution_count": 13,
   "metadata": {},
   "outputs": [],
   "source": [
    "import numpy as np\n",
    "from PIL import Image\n",
    "import math\n",
    "from tensorflow.keras.models import Sequential\n",
    "from tensorflow.keras import layers\n",
    "from tensorflow.keras.optimizers import Adam\n",
    "import pandas as pd\n",
    "from pathlib import Path\n",
    "import os.path\n",
    "import matplotlib.pyplot as plt\n",
    "import tensorflow as tf\n",
    "from tensorflow.keras.preprocessing.image import ImageDataGenerator,load_img,img_to_array\n",
    "\n",
    "# Load the pretained model\n",
    "pretrained_model = tf.keras.applications.MobileNetV2(\n",
    "    input_shape=(224, 224, 3),\n",
    "    include_top=False,\n",
    "    weights='imagenet',\n",
    "    pooling='avg'\n",
    ")\n",
    "pretrained_model.trainable = False"
   ]
  },
  {
   "cell_type": "code",
   "execution_count": 14,
   "metadata": {},
   "outputs": [],
   "source": [
    "def build_model():\n",
    "    inputs = pretrained_model.input\n",
    "\n",
    "    x = tf.keras.layers.Dense(128, activation='relu')(pretrained_model.output)\n",
    "    x = tf.keras.layers.Dense(128, activation='relu')(x)\n",
    "\n",
    "    outputs = tf.keras.layers.Dense(36, activation='softmax')(x)\n",
    "\n",
    "    model = tf.keras.Model(inputs=inputs, outputs=outputs)\n",
    "\n",
    "    model.compile(\n",
    "        optimizer='adam',\n",
    "        loss='categorical_crossentropy',\n",
    "        metrics=['accuracy']\n",
    "    )\n",
    "    return model"
   ]
  },
  {
   "cell_type": "code",
   "execution_count": 15,
   "metadata": {},
   "outputs": [],
   "source": [
    "model = build_model()\n",
    "model.load_weights('C:/Users/RIZKY/Downloads/FYP POPULAR FRUIT/Test/datatest/best_model.h5')"
   ]
  },
  {
   "cell_type": "code",
   "execution_count": 16,
   "metadata": {},
   "outputs": [],
   "source": [
    "def load_image(filename):\n",
    "    #load the image\n",
    "    img = load_img(filename, grayscale=False, color_mode=\"rgb\", target_size=(224, 224, 3))\n",
    "    #convert to array\n",
    "    img = img_to_array(img)\n",
    "    #reshape into a single sample with 1 channel\n",
    "    img = img.reshape(1, 224, 224, 3)\n",
    "    #prepare pixel data\n",
    "    img = img.astype('float32')\n",
    "    img = img / 255.0\n",
    "    return img"
   ]
  },
  {
   "cell_type": "code",
   "execution_count": 23,
   "metadata": {},
   "outputs": [
    {
     "name": "stdout",
     "output_type": "stream",
     "text": [
      "1/1 [==============================] - 0s 31ms/step\n"
     ]
    },
    {
     "data": {
      "text/plain": [
       "'watermelon'"
      ]
     },
     "execution_count": 23,
     "metadata": {},
     "output_type": "execute_result"
    }
   ],
   "source": [
    "def predict():\n",
    "    img = load_image(\"static/uploads/watermelon.jpg\")\n",
    "    predict_x=model.predict(img)\n",
    "    result=np.argmax(predict_x,axis=1)\n",
    "\n",
    "    if result == 0:\n",
    "        pred = \"Apple\"\n",
    "        return pred\n",
    "    elif result == 1:\n",
    "        pred = \"banana\"\n",
    "        return pred\n",
    "    elif result == 2:\n",
    "        pred = \"beetroot\"\n",
    "        return pred\n",
    "    elif result == 3:\n",
    "        pred = \"bell pepper\"\n",
    "        return pred\n",
    "    elif result == 4:\n",
    "        pred = \"cabbage\"\n",
    "        return pred\n",
    "    elif result == 5:\n",
    "        pred = \"capsicum\"\n",
    "        return pred\n",
    "    elif result == 6:\n",
    "        pred = \"carrot\"\n",
    "        return pred\n",
    "    elif result == 7:\n",
    "        pred = \"cauliflower\"\n",
    "        return pred\n",
    "    elif result == 8:\n",
    "        pred = \"chilli pepper\"\n",
    "        return pred\n",
    "    elif result == 9:\n",
    "        pred = \"corn\"\n",
    "        return pred\n",
    "    elif result == 10:\n",
    "        pred = \"cucumber\"\n",
    "        return pred\n",
    "    elif result == 11:\n",
    "        pred = \"eggplant\"\n",
    "        return pred\n",
    "    elif result == 12:\n",
    "        pred = \"garlic\"\n",
    "        return pred\n",
    "    elif result == 13:\n",
    "        pred = \"ginger\"\n",
    "        return pred\n",
    "    elif result == 14:\n",
    "        pred = \"grapes\"\n",
    "        return pred\n",
    "    elif result == 15:\n",
    "        pred = \"jalepeno\"\n",
    "        return pred\n",
    "    elif result == 16:\n",
    "        pred = \"kiwi\"\n",
    "        return pred\n",
    "    elif result == 17:\n",
    "        pred = \"lemon\"\n",
    "        return pred\n",
    "    elif result == 18:\n",
    "        pred = \"lettuce\"\n",
    "        return pred\n",
    "    elif result == 19:\n",
    "        pred = \"mango\"\n",
    "        return pred\n",
    "    elif result == 20:\n",
    "        pred = \"onion\"\n",
    "        return pred\n",
    "    elif result == 21:\n",
    "        pred = \"orange\"\n",
    "        return pred\n",
    "    elif result == 22:\n",
    "        pred = \"paprika\"\n",
    "        return pred\n",
    "    elif result == 23:\n",
    "        pred = \"pear\"\n",
    "        return pred\n",
    "    elif result == 24:\n",
    "        pred = \"peas\"\n",
    "        return pred\n",
    "    elif result == 25:\n",
    "        pred = \"pineapple\"\n",
    "        return pred\n",
    "    elif result == 26:\n",
    "        pred = \"pomegranate\"\n",
    "        return pred\n",
    "    elif result == 27:\n",
    "        pred = \"potato\"\n",
    "        return pred\n",
    "    elif result == 28:\n",
    "        pred = \"raddish\"\n",
    "        return pred\n",
    "    elif result == 29:\n",
    "        pred = \"soy beans\"\n",
    "        return pred\n",
    "    elif result == 30:\n",
    "        pred = \"spinach\"\n",
    "        return pred\n",
    "    elif result == 31:\n",
    "        pred = \"sweetcorn\"\n",
    "        return pred\n",
    "    elif result == 32:\n",
    "        pred = \"sweetpotato\"\n",
    "        return pred\n",
    "    elif result == 33:\n",
    "        pred = \"tomato\"\n",
    "        return pred\n",
    "    elif result == 34:\n",
    "        pred = \"turnip\"\n",
    "        return pred\n",
    "    elif result == 35:\n",
    "        pred = \"watermelon\"\n",
    "        return pred\n",
    "\n",
    "predict()"
   ]
  },
  {
   "cell_type": "code",
   "execution_count": 22,
   "metadata": {},
   "outputs": [
    {
     "name": "stdout",
     "output_type": "stream",
     "text": [
      "1/1 [==============================] - 0s 35ms/step\n"
     ]
    },
    {
     "data": {
      "text/plain": [
       "'watermelon'"
      ]
     },
     "execution_count": 22,
     "metadata": {},
     "output_type": "execute_result"
    }
   ],
   "source": []
  }
 ],
 "metadata": {
  "kernelspec": {
   "display_name": "Python 3",
   "language": "python",
   "name": "python3"
  },
  "language_info": {
   "codemirror_mode": {
    "name": "ipython",
    "version": 3
   },
   "file_extension": ".py",
   "mimetype": "text/x-python",
   "name": "python",
   "nbconvert_exporter": "python",
   "pygments_lexer": "ipython3",
   "version": "3.9.0"
  },
  "orig_nbformat": 4,
  "vscode": {
   "interpreter": {
    "hash": "b7762721ae728d6f2a552748922d64ae73c202b863a4d1f8706acf7dade42c59"
   }
  }
 },
 "nbformat": 4,
 "nbformat_minor": 2
}
